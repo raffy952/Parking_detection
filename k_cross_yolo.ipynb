{
  "metadata": {
    "kernelspec": {
      "name": "python3",
      "display_name": "Python 3",
      "language": "python"
    },
    "language_info": {
      "name": "python",
      "version": "3.10.12",
      "mimetype": "text/x-python",
      "codemirror_mode": {
        "name": "ipython",
        "version": 3
      },
      "pygments_lexer": "ipython3",
      "nbconvert_exporter": "python",
      "file_extension": ".py"
    },
    "colab": {
      "provenance": [],
      "gpuType": "T4",
      "include_colab_link": true
    },
    "accelerator": "GPU",
    "kaggle": {
      "accelerator": "gpu",
      "dataSources": [
        {
          "sourceId": 10407485,
          "sourceType": "datasetVersion",
          "datasetId": 6449476
        }
      ],
      "dockerImageVersionId": 30823,
      "isInternetEnabled": true,
      "language": "python",
      "sourceType": "notebook",
      "isGpuEnabled": true
    }
  },
  "nbformat_minor": 0,
  "nbformat": 4,
  "cells": [
    {
      "cell_type": "markdown",
      "metadata": {
        "id": "view-in-github",
        "colab_type": "text"
      },
      "source": [
        "<a href=\"https://colab.research.google.com/github/raffy952/Parking_detection/blob/main/k_cross_yolo.ipynb\" target=\"_parent\"><img src=\"https://colab.research.google.com/assets/colab-badge.svg\" alt=\"Open In Colab\"/></a>"
      ]
    },
    {
      "cell_type": "markdown",
      "source": [
        "#K Cross validation"
      ],
      "metadata": {
        "id": "uWlZiFyve9Ym"
      }
    },
    {
      "cell_type": "markdown",
      "source": [
        "The validation was in made in a Kaggle notebook with the following GPU: NVIDIA P100"
      ],
      "metadata": {
        "id": "JDdEbff2fGX2"
      }
    },
    {
      "cell_type": "code",
      "source": [
        "%pip install roboflow\n",
        "\n",
        "from roboflow import Roboflow\n",
        "rf = Roboflow(api_key=\"REItrMfvW0zkmeutbv41\")\n",
        "project = rf.workspace(\"capping-project\").project(\"lot-spot\")\n",
        "version = project.version(2)\n",
        "dataset = version.download(\"yolov8-obb\")\n"
      ],
      "metadata": {
        "id": "aU3meoCEr50i",
        "trusted": true,
        "execution": {
          "iopub.status.busy": "2025-01-08T22:42:33.253377Z",
          "iopub.execute_input": "2025-01-08T22:42:33.253579Z",
          "iopub.status.idle": "2025-01-08T22:42:53.783851Z",
          "shell.execute_reply.started": "2025-01-08T22:42:33.253556Z",
          "shell.execute_reply": "2025-01-08T22:42:53.783083Z"
        }
      },
      "outputs": [],
      "execution_count": null
    },
    {
      "cell_type": "code",
      "source": [
        "# relabel an image incorrectly labeled\n",
        "\n",
        "import os\n",
        "\n",
        "incorrect_image_path = \"/kaggle/working/lot-spot-2/train/labels/lot_jpg.rf.01dbf19416b625ad24bd92f6fe2f0682.txt\"\n",
        "\n",
        "with open(incorrect_image_path, 'r') as file:\n",
        "    lines = file.readlines()\n",
        "    modified_lines = []\n",
        "    for line in lines:\n",
        "        if line.startswith('2'):\n",
        "            modified_lines.append(line.replace('2', '1', 1))\n",
        "        elif line.startswith('3'):\n",
        "            modified_lines.append(line.replace('3', '0', 1))\n",
        "\n",
        "\n",
        "with open(incorrect_image_path, 'w') as file:\n",
        "    file.writelines(modified_lines)"
      ],
      "metadata": {
        "id": "o_KPw45Ir-5S",
        "trusted": true,
        "execution": {
          "iopub.status.busy": "2025-01-08T22:43:28.530677Z",
          "iopub.execute_input": "2025-01-08T22:43:28.530992Z",
          "iopub.status.idle": "2025-01-08T22:43:28.536285Z",
          "shell.execute_reply.started": "2025-01-08T22:43:28.530965Z",
          "shell.execute_reply": "2025-01-08T22:43:28.535625Z"
        }
      },
      "outputs": [],
      "execution_count": null
    },
    {
      "cell_type": "code",
      "source": [
        "import yaml\n",
        "\n",
        "dataset_path = \"//kaggle/working/lot-spot-2\"\n",
        "classes = ['Occupied', 'Not occupied']\n",
        "nc = len(classes)\n",
        "config_yaml = {\n",
        "\n",
        "               \"test\" : f\"{dataset_path}/test\",\n",
        "               \"train\" : f\"{dataset_path}/train\",\n",
        "               \"val\" : f\"{dataset_path}/valid\",\n",
        "               \"nc\": nc,\n",
        "               \"names\": classes,\n",
        "}\n",
        "with open(f\"{dataset_path}/data.yaml\", \"w\") as file:\n",
        "  yaml.dump(config_yaml, file)"
      ],
      "metadata": {
        "id": "2pbVOVO5sCDo",
        "trusted": true,
        "execution": {
          "iopub.status.busy": "2025-01-08T22:43:40.893368Z",
          "iopub.execute_input": "2025-01-08T22:43:40.893659Z",
          "iopub.status.idle": "2025-01-08T22:43:40.899513Z",
          "shell.execute_reply.started": "2025-01-08T22:43:40.893638Z",
          "shell.execute_reply": "2025-01-08T22:43:40.898730Z"
        }
      },
      "outputs": [],
      "execution_count": null
    },
    {
      "cell_type": "code",
      "source": [
        "!pip install ultralytics"
      ],
      "metadata": {
        "id": "DfCEMTJ9sHav",
        "trusted": true,
        "execution": {
          "iopub.status.busy": "2025-01-08T22:43:46.864115Z",
          "iopub.execute_input": "2025-01-08T22:43:46.864454Z",
          "iopub.status.idle": "2025-01-08T22:43:51.022254Z",
          "shell.execute_reply.started": "2025-01-08T22:43:46.864429Z",
          "shell.execute_reply": "2025-01-08T22:43:51.021384Z"
        }
      },
      "outputs": [],
      "execution_count": null
    },
    {
      "cell_type": "code",
      "source": [
        "from pathlib import Path\n",
        "import yaml\n",
        "\n",
        "dataset_path = Path(\"./lot-spot-2\")  # replace with 'path/to/dataset' for your custom data\n",
        "labels = sorted(dataset_path.rglob(\"*labels/*.txt\"))  # all data in 'labels'"
      ],
      "metadata": {
        "id": "9b4UmI96r4v5",
        "trusted": true,
        "execution": {
          "iopub.status.busy": "2025-01-08T22:43:57.564819Z",
          "iopub.execute_input": "2025-01-08T22:43:57.565111Z",
          "iopub.status.idle": "2025-01-08T22:43:57.585962Z",
          "shell.execute_reply.started": "2025-01-08T22:43:57.565090Z",
          "shell.execute_reply": "2025-01-08T22:43:57.585187Z"
        }
      },
      "outputs": [],
      "execution_count": null
    },
    {
      "cell_type": "code",
      "source": [
        "yaml_file = \"/kaggle/working/lot-spot-2/data.yaml\"  # your data YAML with data directories and names dictionary\n",
        "with open(yaml_file, \"r\", encoding=\"utf8\") as y:\n",
        "    classes = yaml.safe_load(y)[\"names\"]\n",
        "\n",
        "cls_idx = sorted(classes)"
      ],
      "metadata": {
        "id": "WHG62uRJr4v7",
        "trusted": true,
        "execution": {
          "iopub.status.busy": "2025-01-08T22:44:15.444382Z",
          "iopub.execute_input": "2025-01-08T22:44:15.444697Z",
          "iopub.status.idle": "2025-01-08T22:44:15.450857Z",
          "shell.execute_reply.started": "2025-01-08T22:44:15.444671Z",
          "shell.execute_reply": "2025-01-08T22:44:15.449934Z"
        }
      },
      "outputs": [],
      "execution_count": null
    },
    {
      "cell_type": "code",
      "source": [
        "cls_idx"
      ],
      "metadata": {
        "id": "Np2UtmJmr4v7",
        "trusted": true,
        "execution": {
          "iopub.status.busy": "2025-01-08T22:44:21.804527Z",
          "iopub.execute_input": "2025-01-08T22:44:21.804836Z",
          "iopub.status.idle": "2025-01-08T22:44:21.810837Z",
          "shell.execute_reply.started": "2025-01-08T22:44:21.804815Z",
          "shell.execute_reply": "2025-01-08T22:44:21.810033Z"
        }
      },
      "outputs": [],
      "execution_count": null
    },
    {
      "cell_type": "code",
      "source": [
        "import pandas as pd\n",
        "\n",
        "indx = [label.stem for label in labels]  # uses base filename as ID (no extension)\n",
        "labels_df = pd.DataFrame([], columns=cls_idx, index=indx)"
      ],
      "metadata": {
        "id": "hONfFSD4r4v8",
        "trusted": true,
        "execution": {
          "iopub.status.busy": "2025-01-08T22:44:25.003455Z",
          "iopub.execute_input": "2025-01-08T22:44:25.003769Z",
          "iopub.status.idle": "2025-01-08T22:44:25.320957Z",
          "shell.execute_reply.started": "2025-01-08T22:44:25.003743Z",
          "shell.execute_reply": "2025-01-08T22:44:25.320322Z"
        }
      },
      "outputs": [],
      "execution_count": null
    },
    {
      "cell_type": "code",
      "source": [
        "from collections import Counter\n",
        "\n",
        "for label in labels:\n",
        "    lbl_counter = Counter()\n",
        "\n",
        "    with open(label, \"r\") as lf:\n",
        "        lines = lf.readlines()\n",
        "\n",
        "    for line in lines:\n",
        "        # classes for YOLO label uses integer at first position of each line\n",
        "        lbl_counter[int(line.split(\" \")[0])] += 1\n",
        "\n",
        "    labels_df.loc[label.stem] = lbl_counter\n",
        "\n",
        "labels_df = labels_df.fillna(0.0)  # replace `nan` values with `0.0`"
      ],
      "metadata": {
        "id": "v7upJQvPr4v8",
        "trusted": true,
        "execution": {
          "iopub.status.busy": "2025-01-08T22:44:30.604407Z",
          "iopub.execute_input": "2025-01-08T22:44:30.604815Z",
          "iopub.status.idle": "2025-01-08T22:44:31.283743Z",
          "shell.execute_reply.started": "2025-01-08T22:44:30.604793Z",
          "shell.execute_reply": "2025-01-08T22:44:31.283081Z"
        }
      },
      "outputs": [],
      "execution_count": null
    },
    {
      "cell_type": "code",
      "source": [
        "from sklearn.model_selection import KFold\n",
        "\n",
        "ksplit = 5\n",
        "kf = KFold(n_splits=ksplit, shuffle=True, random_state=20)  # setting random_state for repeatable results\n",
        "\n",
        "kfolds = list(kf.split(labels_df))"
      ],
      "metadata": {
        "id": "uRjMPiuMr4v9",
        "trusted": true,
        "execution": {
          "iopub.status.busy": "2025-01-08T22:44:38.114531Z",
          "iopub.execute_input": "2025-01-08T22:44:38.114812Z",
          "iopub.status.idle": "2025-01-08T22:44:38.636527Z",
          "shell.execute_reply.started": "2025-01-08T22:44:38.114791Z",
          "shell.execute_reply": "2025-01-08T22:44:38.635841Z"
        }
      },
      "outputs": [],
      "execution_count": null
    },
    {
      "cell_type": "code",
      "source": [
        "folds = [f\"split_{n}\" for n in range(1, ksplit + 1)]\n",
        "folds_df = pd.DataFrame(index=indx, columns=folds)\n",
        "\n",
        "for idx, (train, val) in enumerate(kfolds, start=1):\n",
        "    folds_df[f\"split_{idx}\"].loc[labels_df.iloc[train].index] = \"train\"\n",
        "    folds_df[f\"split_{idx}\"].loc[labels_df.iloc[val].index] = \"val\""
      ],
      "metadata": {
        "id": "dkU4m4sfr4v9",
        "trusted": true,
        "execution": {
          "iopub.status.busy": "2025-01-08T22:44:41.404708Z",
          "iopub.execute_input": "2025-01-08T22:44:41.405323Z",
          "iopub.status.idle": "2025-01-08T22:44:41.422956Z",
          "shell.execute_reply.started": "2025-01-08T22:44:41.405292Z",
          "shell.execute_reply": "2025-01-08T22:44:41.422034Z"
        }
      },
      "outputs": [],
      "execution_count": null
    },
    {
      "cell_type": "code",
      "source": [
        "fold_lbl_distrb = pd.DataFrame(index=folds, columns=cls_idx)\n",
        "\n",
        "for n, (train_indices, val_indices) in enumerate(kfolds, start=1):\n",
        "    train_totals = labels_df.iloc[train_indices].sum()\n",
        "    val_totals = labels_df.iloc[val_indices].sum()\n",
        "\n",
        "    # To avoid division by zero, we add a small value (1E-7) to the denominator\n",
        "    ratio = val_totals / (train_totals + 1e-7)\n",
        "    fold_lbl_distrb.loc[f\"split_{n}\"] = ratio"
      ],
      "metadata": {
        "id": "RtbrSBmer4v9",
        "trusted": true,
        "execution": {
          "iopub.status.busy": "2025-01-08T22:44:46.764091Z",
          "iopub.execute_input": "2025-01-08T22:44:46.764386Z",
          "iopub.status.idle": "2025-01-08T22:44:46.776822Z",
          "shell.execute_reply.started": "2025-01-08T22:44:46.764366Z",
          "shell.execute_reply": "2025-01-08T22:44:46.776004Z"
        }
      },
      "outputs": [],
      "execution_count": null
    },
    {
      "cell_type": "code",
      "source": [
        "import datetime\n",
        "\n",
        "supported_extensions = [\".jpg\", \".jpeg\", \".png\"]\n",
        "\n",
        "# Initialize an empty list to store image file paths\n",
        "images = []\n",
        "\n",
        "# Loop through supported extensions and gather image files\n",
        "for ext in supported_extensions:\n",
        "    images.extend(sorted((dataset_path / \"images\").rglob(f\"*{ext}\")))\n",
        "\n",
        "# Create the necessary directories and dataset YAML files (unchanged)\n",
        "save_path = Path(dataset_path / f\"{datetime.date.today().isoformat()}_{ksplit}-Fold_Cross-val\")\n",
        "save_path.mkdir(parents=True, exist_ok=True)\n",
        "ds_yamls = []\n",
        "\n",
        "for split in folds_df.columns:\n",
        "    # Create directories\n",
        "    split_dir = save_path / split\n",
        "    split_dir.mkdir(parents=True, exist_ok=True)\n",
        "    (split_dir / \"train\" / \"images\").mkdir(parents=True, exist_ok=True)\n",
        "    (split_dir / \"train\" / \"labels\").mkdir(parents=True, exist_ok=True)\n",
        "    (split_dir / \"val\" / \"images\").mkdir(parents=True, exist_ok=True)\n",
        "    (split_dir / \"val\" / \"labels\").mkdir(parents=True, exist_ok=True)\n",
        "\n",
        "    # Create dataset YAML files\n",
        "    dataset_yaml = split_dir / f\"{split}_dataset.yaml\"\n",
        "    ds_yamls.append(dataset_yaml)\n",
        "\n",
        "    with open(dataset_yaml, \"w\") as ds_y:\n",
        "        yaml.safe_dump(\n",
        "            {\n",
        "                \"path\": split_dir.as_posix(),\n",
        "                \"train\": \"train\",\n",
        "                \"val\": \"val\",\n",
        "                \"names\": classes,\n",
        "            },\n",
        "            ds_y,\n",
        "        )"
      ],
      "metadata": {
        "id": "EEOkcS7fr4v-",
        "trusted": true,
        "execution": {
          "iopub.status.busy": "2025-01-08T22:44:52.524431Z",
          "iopub.execute_input": "2025-01-08T22:44:52.524726Z",
          "iopub.status.idle": "2025-01-08T22:44:52.536303Z",
          "shell.execute_reply.started": "2025-01-08T22:44:52.524704Z",
          "shell.execute_reply": "2025-01-08T22:44:52.535604Z"
        }
      },
      "outputs": [],
      "execution_count": null
    },
    {
      "cell_type": "code",
      "source": [
        "import shutil\n",
        "\n",
        "for image, label in zip(images, labels):\n",
        "    for split, k_split in folds_df.loc[image.stem].items():\n",
        "        # Destination directory\n",
        "        img_to_path = save_path / split / k_split / \"images\"\n",
        "        lbl_to_path = save_path / split / k_split / \"labels\"\n",
        "\n",
        "        # Copy image and label files to new directory (SamefileError if file already exists)\n",
        "        shutil.copy(image, img_to_path / image.name)\n",
        "        shutil.copy(label, lbl_to_path / label.name)"
      ],
      "metadata": {
        "id": "iiV98Zptr4v-",
        "trusted": true,
        "execution": {
          "iopub.status.busy": "2025-01-08T22:45:01.844302Z",
          "iopub.execute_input": "2025-01-08T22:45:01.844583Z",
          "iopub.status.idle": "2025-01-08T22:45:01.854303Z",
          "shell.execute_reply.started": "2025-01-08T22:45:01.844562Z",
          "shell.execute_reply": "2025-01-08T22:45:01.853442Z"
        }
      },
      "outputs": [],
      "execution_count": null
    },
    {
      "cell_type": "code",
      "source": [
        "folds_df.to_csv(save_path / \"kfold_datasplit.csv\")\n",
        "fold_lbl_distrb.to_csv(save_path / \"kfold_label_distribution.csv\")"
      ],
      "metadata": {
        "id": "1-2xvP4-r4v-",
        "trusted": true,
        "execution": {
          "iopub.status.busy": "2025-01-08T22:45:05.583209Z",
          "iopub.execute_input": "2025-01-08T22:45:05.583500Z",
          "iopub.status.idle": "2025-01-08T22:45:05.594040Z",
          "shell.execute_reply.started": "2025-01-08T22:45:05.583477Z",
          "shell.execute_reply": "2025-01-08T22:45:05.593188Z"
        }
      },
      "outputs": [],
      "execution_count": null
    },
    {
      "cell_type": "code",
      "source": [
        "from ultralytics import YOLO\n",
        "\n",
        "weights_path = \"yolo11n-obb.pt\"\n",
        "model = YOLO(weights_path, task=\"detect\")"
      ],
      "metadata": {
        "id": "GMk5_Uxur4v-",
        "trusted": true,
        "execution": {
          "iopub.status.busy": "2025-01-08T22:45:19.656170Z",
          "iopub.execute_input": "2025-01-08T22:45:19.656464Z",
          "iopub.status.idle": "2025-01-08T22:45:24.098732Z",
          "shell.execute_reply.started": "2025-01-08T22:45:19.656442Z",
          "shell.execute_reply": "2025-01-08T22:45:24.097885Z"
        }
      },
      "outputs": [],
      "execution_count": null
    },
    {
      "cell_type": "code",
      "source": [
        "results = {}\n",
        "\n",
        "# Define your additional arguments here\n",
        "batch = 32\n",
        "epochs = 30\n",
        "\n",
        "for k in range(ksplit):\n",
        "    dataset_yaml = ds_yamls[k]\n",
        "    model = YOLO(weights_path, task=\"detect\")\n",
        "    model.train(data=f'{dataset_path}/data.yaml', epochs=epochs, batch=batch, imgsz=640, device='0',\n",
        "            cfg='/kaggle/input/dataset-yaml/best_hyperparameters.yaml', optimizer='AdamW', seed=42)  # include any train arguments\n",
        "    results[k] = model.metrics  # save output metrics for further analysis"
      ],
      "metadata": {
        "id": "0NY2Lfh4r4v-",
        "trusted": true,
        "execution": {
          "iopub.status.busy": "2025-01-08T22:46:48.371719Z",
          "iopub.execute_input": "2025-01-08T22:46:48.372218Z",
          "iopub.status.idle": "2025-01-08T23:27:59.277232Z",
          "shell.execute_reply.started": "2025-01-08T22:46:48.372185Z",
          "shell.execute_reply": "2025-01-08T23:27:59.267812Z"
        }
      },
      "outputs": [],
      "execution_count": null
    },
    {
      "cell_type": "code",
      "source": [
        "print(results[0].results_dict['metrics/mAP50-95(B)'])"
      ],
      "metadata": {
        "trusted": true,
        "execution": {
          "iopub.status.busy": "2025-01-09T00:26:59.502584Z",
          "iopub.execute_input": "2025-01-09T00:26:59.502881Z",
          "iopub.status.idle": "2025-01-09T00:26:59.507417Z",
          "shell.execute_reply.started": "2025-01-09T00:26:59.502858Z",
          "shell.execute_reply": "2025-01-09T00:26:59.506648Z"
        },
        "id": "u-VBp8vwe7uy"
      },
      "outputs": [],
      "execution_count": null
    },
    {
      "cell_type": "code",
      "source": [
        "lenght = len(results)\n",
        "sum = 0\n",
        "maps = []\n",
        "\n",
        "for i in range(lenght):\n",
        "    sum += results[i].results_dict['metrics/mAP50-95(B)']\n",
        "    maps.append(results[i].results_dict['metrics/mAP50-95(B)'])\n",
        "\n",
        "map_mean = sum / lenght\n",
        "print(f\"k cross map 50-95 :{map_mean} +/- {(max(maps) - min(maps)) / map_mean}\")\n",
        "\n"
      ],
      "metadata": {
        "id": "Wya9EAGkBGpm",
        "trusted": true,
        "execution": {
          "iopub.status.busy": "2025-01-09T00:27:46.091107Z",
          "iopub.execute_input": "2025-01-09T00:27:46.091463Z",
          "iopub.status.idle": "2025-01-09T00:27:46.097133Z",
          "shell.execute_reply.started": "2025-01-09T00:27:46.091436Z",
          "shell.execute_reply": "2025-01-09T00:27:46.096335Z"
        },
        "collapsed": true
      },
      "outputs": [],
      "execution_count": null
    }
  ]
}